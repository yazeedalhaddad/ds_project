{
 "cells": [
  {
   "cell_type": "code",
   "execution_count": 49,
   "id": "91f4390f",
   "metadata": {},
   "outputs": [
    {
     "data": {
      "text/html": [
       "<div><style>\n",
       ".dataframe > thead > tr,\n",
       ".dataframe > tbody > tr {\n",
       "  text-align: right;\n",
       "  white-space: pre-wrap;\n",
       "}\n",
       "</style>\n",
       "<small>shape: (5, 9)</small><table border=\"1\" class=\"dataframe\"><thead><tr><th>datetime</th><th>trip_id</th><th>stop_sequence</th><th>stop_id</th><th>actual_arrival_delay</th><th>arrival_uncertainty</th><th>actual_departure_delay</th><th>departure_uncertainty</th><th>timestamp</th></tr><tr><td>str</td><td>i64</td><td>i64</td><td>i64</td><td>f64</td><td>f64</td><td>f64</td><td>f64</td><td>i64</td></tr></thead><tbody><tr><td>&quot;2022-06-29 21:59:54&quot;</td><td>14010000607402196</td><td>1</td><td>9022001055075002</td><td>47.0</td><td>null</td><td>47.0</td><td>0.0</td><td>1656539994</td></tr><tr><td>&quot;2022-06-29 21:59:54&quot;</td><td>14010000612481735</td><td>1</td><td>9022001011725019</td><td>0.0</td><td>null</td><td>7.0</td><td>0.0</td><td>1656539994</td></tr><tr><td>&quot;2022-06-29 21:59:54&quot;</td><td>14010000611286946</td><td>10</td><td>9022001007531001</td><td>8.0</td><td>0.0</td><td>72.0</td><td>0.0</td><td>1656539994</td></tr><tr><td>&quot;2022-06-29 21:59:54&quot;</td><td>14010000610964728</td><td>8</td><td>9022001051054001</td><td>162.0</td><td>0.0</td><td>162.0</td><td>0.0</td><td>1656539994</td></tr><tr><td>&quot;2022-06-29 21:59:54&quot;</td><td>14010000610964619</td><td>12</td><td>9022001050020001</td><td>-17.0</td><td>null</td><td>-17.0</td><td>null</td><td>1656539994</td></tr></tbody></table></div>"
      ],
      "text/plain": [
       "shape: (5, 9)\n",
       "┌───────────┬───────────┬───────────┬───────────┬───┬───────────┬───────────┬───────────┬──────────┐\n",
       "│ datetime  ┆ trip_id   ┆ stop_sequ ┆ stop_id   ┆ … ┆ arrival_u ┆ actual_de ┆ departure ┆ timestam │\n",
       "│ ---       ┆ ---       ┆ ence      ┆ ---       ┆   ┆ ncertaint ┆ parture_d ┆ _uncertai ┆ p        │\n",
       "│ str       ┆ i64       ┆ ---       ┆ i64       ┆   ┆ y         ┆ elay      ┆ nty       ┆ ---      │\n",
       "│           ┆           ┆ i64       ┆           ┆   ┆ ---       ┆ ---       ┆ ---       ┆ i64      │\n",
       "│           ┆           ┆           ┆           ┆   ┆ f64       ┆ f64       ┆ f64       ┆          │\n",
       "╞═══════════╪═══════════╪═══════════╪═══════════╪═══╪═══════════╪═══════════╪═══════════╪══════════╡\n",
       "│ 2022-06-2 ┆ 140100006 ┆ 1         ┆ 902200105 ┆ … ┆ null      ┆ 47.0      ┆ 0.0       ┆ 16565399 │\n",
       "│ 9         ┆ 07402196  ┆           ┆ 5075002   ┆   ┆           ┆           ┆           ┆ 94       │\n",
       "│ 21:59:54  ┆           ┆           ┆           ┆   ┆           ┆           ┆           ┆          │\n",
       "│ 2022-06-2 ┆ 140100006 ┆ 1         ┆ 902200101 ┆ … ┆ null      ┆ 7.0       ┆ 0.0       ┆ 16565399 │\n",
       "│ 9         ┆ 12481735  ┆           ┆ 1725019   ┆   ┆           ┆           ┆           ┆ 94       │\n",
       "│ 21:59:54  ┆           ┆           ┆           ┆   ┆           ┆           ┆           ┆          │\n",
       "│ 2022-06-2 ┆ 140100006 ┆ 10        ┆ 902200100 ┆ … ┆ 0.0       ┆ 72.0      ┆ 0.0       ┆ 16565399 │\n",
       "│ 9         ┆ 11286946  ┆           ┆ 7531001   ┆   ┆           ┆           ┆           ┆ 94       │\n",
       "│ 21:59:54  ┆           ┆           ┆           ┆   ┆           ┆           ┆           ┆          │\n",
       "│ 2022-06-2 ┆ 140100006 ┆ 8         ┆ 902200105 ┆ … ┆ 0.0       ┆ 162.0     ┆ 0.0       ┆ 16565399 │\n",
       "│ 9         ┆ 10964728  ┆           ┆ 1054001   ┆   ┆           ┆           ┆           ┆ 94       │\n",
       "│ 21:59:54  ┆           ┆           ┆           ┆   ┆           ┆           ┆           ┆          │\n",
       "│ 2022-06-2 ┆ 140100006 ┆ 12        ┆ 902200105 ┆ … ┆ null      ┆ -17.0     ┆ null      ┆ 16565399 │\n",
       "│ 9         ┆ 10964619  ┆           ┆ 0020001   ┆   ┆           ┆           ┆           ┆ 94       │\n",
       "│ 21:59:54  ┆           ┆           ┆           ┆   ┆           ┆           ┆           ┆          │\n",
       "└───────────┴───────────┴───────────┴───────────┴───┴───────────┴───────────┴───────────┴──────────┘"
      ]
     },
     "execution_count": 49,
     "metadata": {},
     "output_type": "execute_result"
    }
   ],
   "source": [
    "import polars as pl\n",
    "\n",
    "#root_dir = \"/home/ayesh/Documents/MSc/Period1/Introduction to Data Science/MiniProject/weather-driven-transit-delay-forecasting/\"\n",
    "df = pl.scan_parquet([\"../../data/interim/combined_actual_delays.parquet\"])\n",
    "df.head(5).collect()"
   ]
  },
  {
   "cell_type": "code",
   "execution_count": 27,
   "id": "ae45ee16-5e0a-4692-ac8b-e9fca783f37b",
   "metadata": {},
   "outputs": [
    {
     "data": {
      "text/html": [
       "<div><style>\n",
       ".dataframe > thead > tr,\n",
       ".dataframe > tbody > tr {\n",
       "  text-align: right;\n",
       "  white-space: pre-wrap;\n",
       "}\n",
       "</style>\n",
       "<small>shape: (1, 1)</small><table border=\"1\" class=\"dataframe\"><thead><tr><th>len</th></tr><tr><td>u32</td></tr></thead><tbody><tr><td>433845292</td></tr></tbody></table></div>"
      ],
      "text/plain": [
       "shape: (1, 1)\n",
       "┌───────────┐\n",
       "│ len       │\n",
       "│ ---       │\n",
       "│ u32       │\n",
       "╞═══════════╡\n",
       "│ 433845292 │\n",
       "└───────────┘"
      ]
     },
     "execution_count": 27,
     "metadata": {},
     "output_type": "execute_result"
    }
   ],
   "source": [
    "# Number of rows\n",
    "df.select(pl.len()).collect()"
   ]
  },
  {
   "cell_type": "code",
   "execution_count": 23,
   "id": "630d3b93-b4d2-48b7-b97c-9767f58c3b01",
   "metadata": {},
   "outputs": [
    {
     "name": "stdout",
     "output_type": "stream",
     "text": [
      "Unique (trip_id, stop_id) pairs: 10006452\n"
     ]
    }
   ],
   "source": [
    "import duckdb\n",
    "\n",
    "result = duckdb.sql(\"\"\"\n",
    "SELECT COUNT(*) AS unique_pairs\n",
    "FROM (\n",
    "    SELECT DISTINCT trip_id, stop_id\n",
    "    FROM '../..//data/interim/combined_actual_delays.parquet'\n",
    ")\n",
    "\"\"\").fetchone()[0]\n",
    "\n",
    "print(\"Unique (trip_id, stop_id) pairs:\", result)\n"
   ]
  },
  {
   "cell_type": "code",
   "execution_count": 50,
   "id": "a34777a2-7127-4c4a-8eae-79192a58cf64",
   "metadata": {},
   "outputs": [],
   "source": [
    "# Drop irrelevant columns\n",
    "df = df.drop([\"stop_sequence\", \"arrival_uncertainty\", \"actual_departure_delay\", \"departure_uncertainty\",\t\"timestamp\"])\n",
    "\n",
    "# Process datetime column and create hour of the day(hod) column\n",
    "df = (\n",
    "    df.with_columns(\n",
    "        pl.col(\"datetime\").str.strptime(pl.Datetime, \"%Y-%m-%d %H:%M:%S\")\n",
    "    )\n",
    "    .with_columns([\n",
    "        pl.col(\"datetime\").cast(pl.Date).alias(\"date\"),   # actual Date type\n",
    "        pl.col(\"datetime\").dt.hour().alias(\"HOD\"),        # hour of day\n",
    "    ])\n",
    "    .drop(\"datetime\")\n",
    ")\n",
    "df = df.rename({'actual_arrival_delay': 'delay'})"
   ]
  },
  {
   "cell_type": "code",
   "execution_count": 51,
   "id": "43915665-9a11-41f8-8d58-3628a34ba80b",
   "metadata": {},
   "outputs": [
    {
     "name": "stdout",
     "output_type": "stream",
     "text": [
      "{'trip_id': 552995, 'stop_id': 0, 'delay': 490858, 'date': 0, 'HOD': 0}\n"
     ]
    }
   ],
   "source": [
    "# Checking missing values\n",
    "na_results = {}\n",
    "for col in df.collect_schema().names():\n",
    "    count_df = df.select(pl.col(col).is_null().sum().alias(\"na_count\")).collect()\n",
    "    na_results[col] = count_df[\"na_count\"][0]\n",
    "\n",
    "print(na_results)"
   ]
  },
  {
   "cell_type": "code",
   "execution_count": 52,
   "id": "fb408838-4f80-4e7a-a4d5-0840b071be0d",
   "metadata": {},
   "outputs": [
    {
     "name": "stdout",
     "output_type": "stream",
     "text": [
      "{'trip_id': 0, 'stop_id': 0, 'delay': 483209, 'date': 0, 'HOD': 0}\n"
     ]
    }
   ],
   "source": [
    "# Drop rows with missing trip_id as they cannot be combined \n",
    "# with GTFS-Static data\n",
    "\n",
    "df = df.drop_nulls(subset=[\"trip_id\"])\n",
    "\n",
    "# Checking missing values\n",
    "na_results = {}\n",
    "for col in df.collect_schema().names():\n",
    "    count_df = df.select(pl.col(col).is_null().sum().alias(\"na_count\")).collect()\n",
    "    na_results[col] = count_df[\"na_count\"][0]\n",
    "\n",
    "print(na_results)"
   ]
  },
  {
   "cell_type": "code",
   "execution_count": 53,
   "id": "1a097fb8-48be-4a8e-8608-0b2420fd333f",
   "metadata": {},
   "outputs": [],
   "source": [
    "# Write out lazily to Parquet (streaming-safe)\n",
    "df.sink_parquet(\"../../data/interim/gtfs_rt_parquet/actual_delays_cleaned.parquet\")"
   ]
  },
  {
   "cell_type": "code",
   "execution_count": 69,
   "id": "5198de70-1dd9-4d29-89e3-95a356feb060",
   "metadata": {},
   "outputs": [
    {
     "data": {
      "text/html": [
       "<div><style>\n",
       ".dataframe > thead > tr,\n",
       ".dataframe > tbody > tr {\n",
       "  text-align: right;\n",
       "  white-space: pre-wrap;\n",
       "}\n",
       "</style>\n",
       "<small>shape: (5, 5)</small><table border=\"1\" class=\"dataframe\"><thead><tr><th>trip_id</th><th>stop_id</th><th>delay</th><th>date</th><th>HOD</th></tr><tr><td>i64</td><td>i64</td><td>f64</td><td>date</td><td>i8</td></tr></thead><tbody><tr><td>14010000607402196</td><td>9022001055075002</td><td>47.0</td><td>2022-06-29</td><td>21</td></tr><tr><td>14010000612481735</td><td>9022001011725019</td><td>0.0</td><td>2022-06-29</td><td>21</td></tr><tr><td>14010000611286946</td><td>9022001007531001</td><td>8.0</td><td>2022-06-29</td><td>21</td></tr><tr><td>14010000610964728</td><td>9022001051054001</td><td>162.0</td><td>2022-06-29</td><td>21</td></tr><tr><td>14010000610964619</td><td>9022001050020001</td><td>-17.0</td><td>2022-06-29</td><td>21</td></tr></tbody></table></div>"
      ],
      "text/plain": [
       "shape: (5, 5)\n",
       "┌───────────────────┬──────────────────┬───────┬────────────┬─────┐\n",
       "│ trip_id           ┆ stop_id          ┆ delay ┆ date       ┆ HOD │\n",
       "│ ---               ┆ ---              ┆ ---   ┆ ---        ┆ --- │\n",
       "│ i64               ┆ i64              ┆ f64   ┆ date       ┆ i8  │\n",
       "╞═══════════════════╪══════════════════╪═══════╪════════════╪═════╡\n",
       "│ 14010000607402196 ┆ 9022001055075002 ┆ 47.0  ┆ 2022-06-29 ┆ 21  │\n",
       "│ 14010000612481735 ┆ 9022001011725019 ┆ 0.0   ┆ 2022-06-29 ┆ 21  │\n",
       "│ 14010000611286946 ┆ 9022001007531001 ┆ 8.0   ┆ 2022-06-29 ┆ 21  │\n",
       "│ 14010000610964728 ┆ 9022001051054001 ┆ 162.0 ┆ 2022-06-29 ┆ 21  │\n",
       "│ 14010000610964619 ┆ 9022001050020001 ┆ -17.0 ┆ 2022-06-29 ┆ 21  │\n",
       "└───────────────────┴──────────────────┴───────┴────────────┴─────┘"
      ]
     },
     "execution_count": 69,
     "metadata": {},
     "output_type": "execute_result"
    }
   ],
   "source": [
    "df = pl.scan_parquet([\"../../data/interim/gtfs_rt_parquet/actual_delays_cleaned.parquet\"])\n",
    "df.head(5).collect()"
   ]
  },
  {
   "cell_type": "code",
   "execution_count": 64,
   "id": "693e392a-6e61-457d-9b94-0b2a6efb8ab2",
   "metadata": {},
   "outputs": [
    {
     "name": "stdout",
     "output_type": "stream",
     "text": [
      "Rows in May–Oct: 221585785\n",
      "Rows in Nov–Apr: 211706512\n"
     ]
    }
   ],
   "source": [
    "tdf = df.with_columns([\n",
    "    pl.col(\"date\").dt.month().alias(\"month\")\n",
    "])\n",
    "\n",
    "# Count rows for May–October\n",
    "may_oct_count = (\n",
    "    tdf.filter(pl.col(\"month\").is_in([5,6,7,8,9,10]))\n",
    "      .select(pl.len().alias(\"count\"))\n",
    "      .collect()\n",
    ")[\"count\"][0]\n",
    "\n",
    "# Count rows for Nov–Apr\n",
    "nov_apr_count = (\n",
    "    tdf.filter(pl.col(\"month\").is_in([11,12,1,2,3,4]))\n",
    "      .select(pl.len().alias(\"count\"))\n",
    "      .collect()\n",
    ")[\"count\"][0]\n",
    "\n",
    "print(f\"Rows in May–Oct: {may_oct_count}\")\n",
    "print(f\"Rows in Nov–Apr: {nov_apr_count}\")"
   ]
  },
  {
   "cell_type": "code",
   "execution_count": 71,
   "id": "25140dd0-19ab-451c-823c-248032a1ebf5",
   "metadata": {},
   "outputs": [],
   "source": [
    "# Keep only rows outside May–October (Snowing months)\n",
    "df_filtered = (\n",
    "    df.lazy()\n",
    "      .filter(\n",
    "          ~pl.col(\"date\")\n",
    "            .dt.month()\n",
    "            .is_in([5,6,7,8,9,10])\n",
    "      )\n",
    ")\n",
    "\n",
    "# Write out lazily to Parquet (streaming-safe)\n",
    "df_filtered.sink_parquet(\"../../data/interim/gtfs_rt_parquet/gtfs_rt_snow_filtered.parquet\")\n"
   ]
  },
  {
   "cell_type": "code",
   "execution_count": 72,
   "id": "75e97a68-e5f7-42cd-9b24-38fef6cbfb4c",
   "metadata": {},
   "outputs": [
    {
     "data": {
      "text/html": [
       "<div><style>\n",
       ".dataframe > thead > tr,\n",
       ".dataframe > tbody > tr {\n",
       "  text-align: right;\n",
       "  white-space: pre-wrap;\n",
       "}\n",
       "</style>\n",
       "<small>shape: (1, 1)</small><table border=\"1\" class=\"dataframe\"><thead><tr><th>len</th></tr><tr><td>u32</td></tr></thead><tbody><tr><td>211706512</td></tr></tbody></table></div>"
      ],
      "text/plain": [
       "shape: (1, 1)\n",
       "┌───────────┐\n",
       "│ len       │\n",
       "│ ---       │\n",
       "│ u32       │\n",
       "╞═══════════╡\n",
       "│ 211706512 │\n",
       "└───────────┘"
      ]
     },
     "execution_count": 72,
     "metadata": {},
     "output_type": "execute_result"
    }
   ],
   "source": [
    "df = pl.scan_parquet([\"../../data/interim/gtfs_rt_parquet/gtfs_rt_snow_filtered.parquet\"])\n",
    "df.select(pl.len()).collect()"
   ]
  },
  {
   "cell_type": "code",
   "execution_count": 73,
   "id": "a34668f8-8153-46d7-a6ae-3aa163dc2409",
   "metadata": {},
   "outputs": [
    {
     "name": "stdout",
     "output_type": "stream",
     "text": [
      "Rows in May–Oct: 0\n",
      "Rows in Nov–Apr: 211706512\n"
     ]
    }
   ],
   "source": [
    "tdf = df.with_columns([\n",
    "    pl.col(\"date\").dt.month().alias(\"month\")\n",
    "])\n",
    "\n",
    "# Count rows for May–October\n",
    "may_oct_count = (\n",
    "    tdf.filter(pl.col(\"month\").is_in([5,6,7,8,9,10]))\n",
    "      .select(pl.len().alias(\"count\"))\n",
    "      .collect()\n",
    ")[\"count\"][0]\n",
    "\n",
    "# Count rows for Nov–Apr\n",
    "nov_apr_count = (\n",
    "    tdf.filter(pl.col(\"month\").is_in([11,12,1,2,3,4]))\n",
    "      .select(pl.len().alias(\"count\"))\n",
    "      .collect()\n",
    ")[\"count\"][0]\n",
    "\n",
    "print(f\"Rows in May–Oct: {may_oct_count}\")\n",
    "print(f\"Rows in Nov–Apr: {nov_apr_count}\")"
   ]
  },
  {
   "cell_type": "code",
   "execution_count": 86,
   "id": "51d01eb3-ad0d-48b3-ba7d-5475c89694f3",
   "metadata": {},
   "outputs": [
    {
     "data": {
      "text/html": [
       "<div><style>\n",
       ".dataframe > thead > tr,\n",
       ".dataframe > tbody > tr {\n",
       "  text-align: right;\n",
       "  white-space: pre-wrap;\n",
       "}\n",
       "</style>\n",
       "<small>shape: (5, 13)</small><table border=\"1\" class=\"dataframe\"><thead><tr><th>date</th><th>HOD</th><th>trip_id</th><th>stop_id</th><th>actual_arrival_delay</th><th>route_id</th><th>route_type</th><th>direction_id</th><th>shape_dist_traveled</th><th>Temperature</th><th>Precipitation</th><th>SnowDepth</th><th>WindSpeed</th></tr><tr><td>date</td><td>i8</td><td>i64</td><td>i64</td><td>f64</td><td>str</td><td>str</td><td>str</td><td>str</td><td>f64</td><td>f64</td><td>f64</td><td>f64</td></tr></thead><tbody><tr><td>2022-11-01</td><td>6</td><td>14010000611464612</td><td>9022001010649002</td><td>-60.0</td><td>&quot;9011001000400000&quot;</td><td>&quot;700&quot;</td><td>&quot;0&quot;</td><td>&quot;0&quot;</td><td>0.3</td><td>0.0</td><td>0.0</td><td>null</td></tr><tr><td>2022-11-01</td><td>6</td><td>14010000611464612</td><td>9022001010645002</td><td>56.0</td><td>&quot;9011001000400000&quot;</td><td>&quot;700&quot;</td><td>&quot;0&quot;</td><td>&quot;1529.96&quot;</td><td>0.3</td><td>0.0</td><td>0.0</td><td>null</td></tr><tr><td>2022-11-01</td><td>6</td><td>14010000611464612</td><td>9022001010369001</td><td>-24.0</td><td>&quot;9011001000400000&quot;</td><td>&quot;700&quot;</td><td>&quot;0&quot;</td><td>&quot;2256.26&quot;</td><td>0.3</td><td>0.0</td><td>0.0</td><td>null</td></tr><tr><td>2022-11-01</td><td>6</td><td>14010000611464612</td><td>9022001010367002</td><td>63.0</td><td>&quot;9011001000400000&quot;</td><td>&quot;700&quot;</td><td>&quot;0&quot;</td><td>&quot;2697.96&quot;</td><td>0.3</td><td>0.0</td><td>0.0</td><td>null</td></tr><tr><td>2022-11-01</td><td>6</td><td>14010000611464612</td><td>9022001010363004</td><td>90.0</td><td>&quot;9011001000400000&quot;</td><td>&quot;700&quot;</td><td>&quot;0&quot;</td><td>&quot;3344.81&quot;</td><td>0.3</td><td>0.0</td><td>0.0</td><td>null</td></tr></tbody></table></div>"
      ],
      "text/plain": [
       "shape: (5, 13)\n",
       "┌────────────┬─────┬────────────┬────────────┬───┬────────────┬────────────┬───────────┬───────────┐\n",
       "│ date       ┆ HOD ┆ trip_id    ┆ stop_id    ┆ … ┆ Temperatur ┆ Precipitat ┆ SnowDepth ┆ WindSpeed │\n",
       "│ ---        ┆ --- ┆ ---        ┆ ---        ┆   ┆ e          ┆ ion        ┆ ---       ┆ ---       │\n",
       "│ date       ┆ i8  ┆ i64        ┆ i64        ┆   ┆ ---        ┆ ---        ┆ f64       ┆ f64       │\n",
       "│            ┆     ┆            ┆            ┆   ┆ f64        ┆ f64        ┆           ┆           │\n",
       "╞════════════╪═════╪════════════╪════════════╪═══╪════════════╪════════════╪═══════════╪═══════════╡\n",
       "│ 2022-11-01 ┆ 6   ┆ 1401000061 ┆ 9022001010 ┆ … ┆ 0.3        ┆ 0.0        ┆ 0.0       ┆ null      │\n",
       "│            ┆     ┆ 1464612    ┆ 649002     ┆   ┆            ┆            ┆           ┆           │\n",
       "│ 2022-11-01 ┆ 6   ┆ 1401000061 ┆ 9022001010 ┆ … ┆ 0.3        ┆ 0.0        ┆ 0.0       ┆ null      │\n",
       "│            ┆     ┆ 1464612    ┆ 645002     ┆   ┆            ┆            ┆           ┆           │\n",
       "│ 2022-11-01 ┆ 6   ┆ 1401000061 ┆ 9022001010 ┆ … ┆ 0.3        ┆ 0.0        ┆ 0.0       ┆ null      │\n",
       "│            ┆     ┆ 1464612    ┆ 369001     ┆   ┆            ┆            ┆           ┆           │\n",
       "│ 2022-11-01 ┆ 6   ┆ 1401000061 ┆ 9022001010 ┆ … ┆ 0.3        ┆ 0.0        ┆ 0.0       ┆ null      │\n",
       "│            ┆     ┆ 1464612    ┆ 367002     ┆   ┆            ┆            ┆           ┆           │\n",
       "│ 2022-11-01 ┆ 6   ┆ 1401000061 ┆ 9022001010 ┆ … ┆ 0.3        ┆ 0.0        ┆ 0.0       ┆ null      │\n",
       "│            ┆     ┆ 1464612    ┆ 363004     ┆   ┆            ┆            ┆           ┆           │\n",
       "└────────────┴─────┴────────────┴────────────┴───┴────────────┴────────────┴───────────┴───────────┘"
      ]
     },
     "execution_count": 86,
     "metadata": {},
     "output_type": "execute_result"
    }
   ],
   "source": [
    "df = pl.scan_parquet([\"../../data/interim/joined_daily/*.parquet\"])\n",
    "df.head().collect()"
   ]
  },
  {
   "cell_type": "code",
   "execution_count": 77,
   "id": "013b35c0-b942-47d4-9175-2203e0ac67be",
   "metadata": {},
   "outputs": [
    {
     "data": {
      "text/html": [
       "<div><style>\n",
       ".dataframe > thead > tr,\n",
       ".dataframe > tbody > tr {\n",
       "  text-align: right;\n",
       "  white-space: pre-wrap;\n",
       "}\n",
       "</style>\n",
       "<small>shape: (1, 1)</small><table border=\"1\" class=\"dataframe\"><thead><tr><th>len</th></tr><tr><td>u32</td></tr></thead><tbody><tr><td>211701735</td></tr></tbody></table></div>"
      ],
      "text/plain": [
       "shape: (1, 1)\n",
       "┌───────────┐\n",
       "│ len       │\n",
       "│ ---       │\n",
       "│ u32       │\n",
       "╞═══════════╡\n",
       "│ 211701735 │\n",
       "└───────────┘"
      ]
     },
     "execution_count": 77,
     "metadata": {},
     "output_type": "execute_result"
    }
   ],
   "source": [
    "df.select(pl.len()).collect()"
   ]
  },
  {
   "cell_type": "code",
   "execution_count": null,
   "id": "b8645312-39b0-4e5b-aa4a-8b203725d5a5",
   "metadata": {},
   "outputs": [],
   "source": [
    "df = df.rename({\n",
    "    \"HOD\": \"hod\",\n",
    "    \"actual_arrival_delay\": \"delay\",\n",
    "    \"Temperature\": \"temperature\",\n",
    "    \"Precipitation\": \"precipitation\",\n",
    "    \"SnowDepth\": \"snow_depth\",\n",
    "    \"WindSpeed\": \"wind_speed\"\n",
    "})"
   ]
  }
 ],
 "metadata": {
  "kernelspec": {
   "display_name": "Python (transport-delay)",
   "language": "python",
   "name": "transport-delay"
  },
  "language_info": {
   "codemirror_mode": {
    "name": "ipython",
    "version": 3
   },
   "file_extension": ".py",
   "mimetype": "text/x-python",
   "name": "python",
   "nbconvert_exporter": "python",
   "pygments_lexer": "ipython3",
   "version": "3.11.14"
  }
 },
 "nbformat": 4,
 "nbformat_minor": 5
}
